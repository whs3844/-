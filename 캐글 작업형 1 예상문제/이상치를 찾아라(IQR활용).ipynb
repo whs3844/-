{
 "cells": [
  {
   "cell_type": "code",
   "execution_count": 1,
   "id": "f639d182",
   "metadata": {},
   "outputs": [],
   "source": [
    "import pandas as pd\n",
    "import numpy as np\n",
    "\n",
    "df=pd.read_csv(\"C://Users//whs38//OneDrive//바탕 화면//archive//titanic.csv\")"
   ]
  },
  {
   "cell_type": "code",
   "execution_count": 2,
   "id": "34c8fddb",
   "metadata": {},
   "outputs": [],
   "source": [
    "q1=df[\"Fare\"].quantile(0.25)\n",
    "q3=df[\"Fare\"].quantile(0.75)\n",
    "\n",
    "IQR=q3-q1\n",
    "\n",
    "min=q1-1.5*IQR\n",
    "max=q3+1.5*IQR"
   ]
  },
  {
   "cell_type": "code",
   "execution_count": 8,
   "id": "4a8787eb",
   "metadata": {},
   "outputs": [],
   "source": [
    "df_1=df.loc[df[\"Fare\"]<min]\n",
    "df_2=df.loc[df[\"Fare\"]>max]"
   ]
  },
  {
   "cell_type": "code",
   "execution_count": 11,
   "id": "dbcad03e",
   "metadata": {},
   "outputs": [
    {
     "name": "stdout",
     "output_type": "stream",
     "text": [
      "70\n"
     ]
    }
   ],
   "source": [
    "print(np.sum(df_2[\"Sex\"]==\"female\"))"
   ]
  },
  {
   "cell_type": "code",
   "execution_count": null,
   "id": "aea6b1b4",
   "metadata": {},
   "outputs": [],
   "source": []
  },
  {
   "cell_type": "code",
   "execution_count": null,
   "id": "4894a1cf",
   "metadata": {},
   "outputs": [],
   "source": []
  }
 ],
 "metadata": {
  "kernelspec": {
   "display_name": "Python 3 (ipykernel)",
   "language": "python",
   "name": "python3"
  },
  "language_info": {
   "codemirror_mode": {
    "name": "ipython",
    "version": 3
   },
   "file_extension": ".py",
   "mimetype": "text/x-python",
   "name": "python",
   "nbconvert_exporter": "python",
   "pygments_lexer": "ipython3",
   "version": "3.9.7"
  }
 },
 "nbformat": 4,
 "nbformat_minor": 5
}
